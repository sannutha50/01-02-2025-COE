{
 "cells": [
  {
   "cell_type": "code",
   "execution_count": 1,
   "id": "81536676",
   "metadata": {},
   "outputs": [
    {
     "name": "stdout",
     "output_type": "stream",
     "text": [
      "int32\n",
      "Memory Usage: Index        132\n",
      "order_id    4000\n",
      "dtype: int64\n",
      "Memory Usage: Index        132\n",
      "order_id    2000\n",
      "dtype: int64\n"
     ]
    }
   ],
   "source": [
    "import pandas as pd\n",
    "import numpy as np\n",
    "# Creating a sample dataset\n",
    "data = {'order_id': np.arange(1, 1001)}  # order_id from 1 to 1000\n",
    "df = pd.DataFrame(data)\n",
    "# Check the default data type\n",
    "print(df['order_id'].dtype)  # This will show int64\n",
    "print(f\"Memory Usage: {df.memory_usage(deep=True)}\")\n",
    "# Convert order_id to int16 (smallest type that fits)\n",
    "df['order_id'] = df['order_id'].astype(np.int16)\n",
    "# Check the memory usage\n",
    "print(f\"Memory Usage: {df.memory_usage(deep=True)}\")\n",
    "#Memory Saving: The int16 takes only 2 bytes per value, whereas int64 takes 8 bytes."
   ]
  },
  {
   "cell_type": "code",
   "execution_count": 2,
   "id": "3c4ae3e6",
   "metadata": {},
   "outputs": [
    {
     "name": "stdout",
     "output_type": "stream",
     "text": [
      "float64\n",
      "Memory Usage: Index               132\n",
      "sales_amount    4000000\n",
      "dtype: int64\n"
     ]
    }
   ],
   "source": [
    "# Creating a dataset with float values\n",
    "data = {'sales_amount': np.random.random(1000000)}  # Random float values\n",
    "df = pd.DataFrame(data)\n",
    "# Check the default data type\n",
    "print(df['sales_amount'].dtype)  # This will show float64\n",
    "# Convert to float32 for memory optimization\n",
    "df['sales_amount'] = df['sales_amount'].astype(np.float32)\n",
    "# Check the memory usage\n",
    "print(f\"Memory Usage: {df.memory_usage(deep=True)}\")\n",
    "#float32 takes 4 bytes compared to 8 bytes for float64."
   ]
  },
  {
   "cell_type": "code",
   "execution_count": 3,
   "id": "3efedd06",
   "metadata": {},
   "outputs": [
    {
     "name": "stdout",
     "output_type": "stream",
     "text": [
      "object\n",
      "Memory Usage: Index       132\n",
      "city     500305\n",
      "dtype: int64\n"
     ]
    }
   ],
   "source": [
    "# Creating a dataset with repeated string values\n",
    "data = {'city': ['New York', 'Los Angeles', 'Chicago', 'New York', 'Los Angeles'] * 100000}\n",
    "df = pd.DataFrame(data)\n",
    "# Check the memory usage with object type\n",
    "print(df['city'].dtype)  # This will show object (i.e., string)\n",
    "# Convert to category type\n",
    "df['city'] = df['city'].astype('category')\n",
    "# Check the memory usage after conversion\n",
    "print(f\"Memory Usage: {df.memory_usage(deep=True)}\")"
   ]
  },
  {
   "cell_type": "code",
   "execution_count": null,
   "id": "7f0f7f26",
   "metadata": {},
   "outputs": [],
   "source": []
  }
 ],
 "metadata": {
  "kernelspec": {
   "display_name": "Python 3 (ipykernel)",
   "language": "python",
   "name": "python3"
  },
  "language_info": {
   "codemirror_mode": {
    "name": "ipython",
    "version": 3
   },
   "file_extension": ".py",
   "mimetype": "text/x-python",
   "name": "python",
   "nbconvert_exporter": "python",
   "pygments_lexer": "ipython3",
   "version": "3.11.5"
  }
 },
 "nbformat": 4,
 "nbformat_minor": 5
}
